{
 "cells": [
  {
   "cell_type": "code",
   "execution_count": 2,
   "id": "71a04248",
   "metadata": {},
   "outputs": [
    {
     "name": "stdout",
     "output_type": "stream",
     "text": [
      "Accuracy of Random Forest classifier model: 0.9941833045118692\n"
     ]
    }
   ],
   "source": [
    "import pandas as pd\n",
    "from sklearn.model_selection import train_test_split\n",
    "from sklearn.ensemble import RandomForestClassifier\n",
    "from sklearn.metrics import accuracy_score\n",
    "from imblearn.over_sampling import SMOTE\n",
    "from sklearn.preprocessing import OneHotEncoder\n",
    "\n",
    "# Load the categorical, numerical, and target CSV files\n",
    "categorical_data = pd.read_csv(\"categorical.csv\")\n",
    "numerical_data = pd.read_csv(\"numerical.csv\")\n",
    "target_data = pd.read_csv(\"target.csv\")\n",
    "\n",
    "# One-hot encode categorical variables\n",
    "encoder = OneHotEncoder()\n",
    "categorical_data_encoded = pd.DataFrame(encoder.fit_transform(categorical_data).toarray())\n",
    "\n",
    "# Combine numerical and encoded categorical data\n",
    "data = pd.concat([numerical_data, categorical_data_encoded, target_data], axis=1)\n",
    "\n",
    "# Split the data into features and target variable\n",
    "X = data.drop(\"TARGET_B\", axis=1)\n",
    "y = data[\"TARGET_B\"]\n",
    "\n",
    "# Convert feature names to strings\n",
    "X.columns = X.columns.astype(str)\n",
    "\n",
    "# Perform train-test split\n",
    "X_train, X_test, y_train, y_test = train_test_split(X, y, test_size=0.2, random_state=42)\n",
    "\n",
    "# Upscale the data using SMOTE\n",
    "smote = SMOTE(random_state=42)\n",
    "X_train_upsampled, y_train_upsampled = smote.fit_resample(X_train, y_train)\n",
    "\n",
    "# Fit and evaluate Random Forest classifier model\n",
    "rf_classifier = RandomForestClassifier(random_state=42)\n",
    "rf_classifier.fit(X_train_upsampled, y_train_upsampled)\n",
    "y_pred_rf = rf_classifier.predict(X_test)\n",
    "accuracy_rf = accuracy_score(y_test, y_pred_rf)\n",
    "print(\"Accuracy of Random Forest classifier model:\", accuracy_rf)\n"
   ]
  },
  {
   "cell_type": "code",
   "execution_count": null,
   "id": "fe374eba",
   "metadata": {},
   "outputs": [],
   "source": []
  }
 ],
 "metadata": {
  "kernelspec": {
   "display_name": "Python 3 (ipykernel)",
   "language": "python",
   "name": "python3"
  },
  "language_info": {
   "codemirror_mode": {
    "name": "ipython",
    "version": 3
   },
   "file_extension": ".py",
   "mimetype": "text/x-python",
   "name": "python",
   "nbconvert_exporter": "python",
   "pygments_lexer": "ipython3",
   "version": "3.9.13"
  }
 },
 "nbformat": 4,
 "nbformat_minor": 5
}
